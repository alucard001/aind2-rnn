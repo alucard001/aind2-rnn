{
 "cells": [
  {
   "cell_type": "markdown",
   "metadata": {},
   "source": [
    "# Artificial Intelligence Nanodegree\n",
    "## Recurrent Neural Network Projects\n",
    "\n",
    "Welcome to the Recurrent Neural Network Project in the Artificial Intelligence Nanodegree! In this notebook, some template code has already been provided for you, and you will need to implement additional functionality to successfully complete this project. You will not need to modify the included code beyond what is requested. Sections that begin with **'Implementation'** in the header indicate that the following block of code will require additional functionality which you must provide. Instructions will be provided for each section and the specifics of the implementation are marked in the code block with a 'TODO' statement. Please be sure to read the instructions carefully!\n",
    "\n",
    "In addition to implementing code, there will be questions that you must answer which relate to the project and your implementation. Each section where you will answer a question is preceded by a **'Question X'** header. Carefully read each question and provide thorough answers in the following text boxes that begin with **'Answer:'**. Your project submission will be evaluated based on your answers to each of the questions and the implementation you provide.  \n",
    "\n",
    ">**Note:** Code and Markdown cells can be executed using the **Shift + Enter** keyboard shortcut. In addition, Markdown cells can be edited by typically double-clicking the cell to enter edit mode."
   ]
  },
  {
   "cell_type": "markdown",
   "metadata": {},
   "source": [
    "### Implementation TODOs in this notebook\n",
    "\n",
    "This notebook contains two problems, cut into a variety of TODOs.  Make sure to complete each section containing a TODO marker throughout the notebook.  For convenience we provide links to each of these sections below.\n",
    "\n",
    "[TODO #1: Implement a function to window time series](#TODO_1)\n",
    "\n",
    "[TODO #2: Create a simple RNN model using keras to perform regression](#TODO_2)\n",
    "\n",
    "[TODO #3: Finish cleaning a large text corpus](#TODO_3)\n",
    "\n",
    "[TODO #4: Implement a function to window a large text corpus](#TODO_4)\n",
    "\n",
    "[TODO #5: Create a simple RNN model using keras to perform multiclass classification](#TODO_5)\n",
    "\n",
    "[TODO #6: Generate text using a fully trained RNN model and a variety of input sequences](#TODO_6)\n"
   ]
  },
  {
   "cell_type": "markdown",
   "metadata": {},
   "source": [
    "# Problem 1: Perform time series prediction \n",
    "\n",
    "In this project you will perform time series prediction using a Recurrent Neural Network regressor.  In particular you will re-create the figure shown in the notes - where the stock price of Apple was forecasted (or predicted) 7 days in advance.  In completing this exercise you will learn how to construct RNNs using Keras, which will also aid in completing the second project in this notebook.\n",
    "\n",
    "The particular network architecture we will employ for our RNN is known as  [Long Term Short Memory (LSTM)](https://en.wikipedia.org/wiki/Long_short-term_memory), which helps significantly avoid technical problems with optimization of RNNs.  "
   ]
  },
  {
   "cell_type": "markdown",
   "metadata": {},
   "source": [
    "## 1.1 Getting started\n",
    "\n",
    "First we must load in our time series - a history of around 140 days of Apple's stock price.  Then we need to perform a number of pre-processing steps to prepare it for use with an RNN model.  First off, it is good practice to normalize time series - by normalizing its range.  This helps us avoid serious numerical issues associated how common activation functions (like tanh) transform very large (positive or negative) numbers, as well as helping us to avoid related issues when computing derivatives.\n",
    "\n",
    "Here we normalize the series to lie in the range [0,1] [using this scikit function](http://scikit-learn.org/stable/modules/generated/sklearn.preprocessing.MinMaxScaler.html), but it is also commonplace to normalize by a series standard deviation."
   ]
  },
  {
   "cell_type": "code",
   "execution_count": 31,
   "metadata": {},
   "outputs": [
    {
     "name": "stdout",
     "output_type": "stream",
     "text": [
      "The autoreload extension is already loaded. To reload it, use:\n",
      "  %reload_ext autoreload\n",
      "The autoreload extension is already loaded. To reload it, use:\n",
      "  %reload_ext autoreload\n"
     ]
    }
   ],
   "source": [
    "### Load in necessary libraries for data input and normalization\n",
    "%matplotlib inline\n",
    "import numpy as np\n",
    "import matplotlib.pyplot as plt\n",
    "\n",
    "%load_ext autoreload\n",
    "%autoreload 2\n",
    "\n",
    "from my_answers import *\n",
    "\n",
    "%load_ext autoreload\n",
    "%autoreload 2\n",
    "\n",
    "from my_answers import *\n",
    "\n",
    "### load in and normalize the dataset\n",
    "dataset = np.loadtxt('datasets/normalized_apple_prices.csv')"
   ]
  },
  {
   "cell_type": "markdown",
   "metadata": {},
   "source": [
    "Lets take a quick look at the (normalized) time series we'll be performing predictions on."
   ]
  },
  {
   "cell_type": "code",
   "execution_count": 32,
   "metadata": {},
   "outputs": [
    {
     "data": {
      "text/plain": [
       "<matplotlib.text.Text at 0x1212f4898>"
      ]
     },
     "execution_count": 32,
     "metadata": {},
     "output_type": "execute_result"
    },
    {
     "data": {
      "image/png": "[encoded data removed]",
      "text/plain": [
       "<matplotlib.figure.Figure at 0x1212b7c18>"
      ]
     },
     "metadata": {},
     "output_type": "display_data"
    }
   ],
   "source": [
    "# lets take a look at our time series\n",
    "plt.plot(dataset)\n",
    "plt.xlabel('time period')\n",
    "plt.ylabel('normalized series value')"
   ]
  },
  {
   "cell_type": "markdown",
   "metadata": {},
   "source": [
    "## 1.2  Cutting our time series into sequences\n",
    "\n",
    "Remember, our time series is a sequence of numbers that we can represent in general mathematically as \n",
    "\n",
    "$$s_{0},s_{1},s_{2},...,s_{P}$$\n",
    "\n",
    "where $s_{p}$ is the numerical value of the time series at time period $p$ and where $P$ is the total length of the series.  In order to apply our RNN we treat the time series prediction problem as a regression problem, and so need to use a sliding window to construct a set of associated input/output pairs to regress on.  This process is animated in the gif below.\n",
    "\n",
    "<img src=\"images/timeseries_windowing_training.gif\" width=600 height=600/>\n",
    "\n",
    "For example - using a window of size T = 5 (as illustrated in the gif above) we produce a set of input/output pairs like the one shown in the table below\n",
    "\n",
    "$$\\begin{array}{c|c}\n",
    "\\text{Input} & \\text{Output}\\\\\n",
    "\\hline \\color{CornflowerBlue} {\\langle s_{1},s_{2},s_{3},s_{4},s_{5}\\rangle} & \\color{Goldenrod}{ s_{6}} \\\\\n",
    "\\ \\color{CornflowerBlue} {\\langle s_{2},s_{3},s_{4},s_{5},s_{6} \\rangle } & \\color{Goldenrod} {s_{7} } \\\\\n",
    "\\color{CornflowerBlue}  {\\vdots} & \\color{Goldenrod} {\\vdots}\\\\\n",
    "\\color{CornflowerBlue} { \\langle s_{P-5},s_{P-4},s_{P-3},s_{P-2},s_{P-1} \\rangle } & \\color{Goldenrod} {s_{P}}\n",
    "\\end{array}$$\n",
    "\n",
    "Notice here that each input is a sequence (or vector) of length 5 (and in general has length equal to the window size T) while each corresponding output is a scalar value.  Notice also how given a time series of length P and window size T = 5 as shown above, we created P - 5  input/output pairs.  More generally, for a window size T we create P - T such pairs."
   ]
  },
  {
   "cell_type": "markdown",
   "metadata": {},
   "source": [
    "Now its time for you to window the input time series as described above!  \n",
    "\n",
    "<a id='TODO_1'></a>\n",
    "\n",
    "**TODO:** Implement the function called **window_transform_series** in my_answers.py so that it runs a sliding window along the input series and creates associated input/output pairs.    Note that this function should input a) the series and b) the window length, and return the input/output subsequences.  Make sure to format returned input/output as generally shown in table above (where window_size = 5), and make sure your returned input is a numpy array.\n",
    "\n",
    "-----"
   ]
  },
  {
   "cell_type": "markdown",
   "metadata": {},
   "source": [
    "You can test your function on the list of odd numbers given below"
   ]
  },
  {
   "cell_type": "code",
   "execution_count": 33,
   "metadata": {
    "collapsed": true
   },
   "outputs": [],
   "source": [
    "odd_nums = np.array([1,3,5,7,9,11,13])"
   ]
  },
  {
   "cell_type": "markdown",
   "metadata": {},
   "source": [
    "Here is a hard-coded solution for odd_nums.  You can compare its results with what you get from your **window_transform_series** implementation."
   ]
  },
  {
   "cell_type": "code",
   "execution_count": 34,
   "metadata": {},
   "outputs": [
    {
     "name": "stdout",
     "output_type": "stream",
     "text": [
      "--- the input X will look like ----\n",
      "[[ 1  3]\n",
      " [ 3  5]\n",
      " [ 5  7]\n",
      " [ 7  9]\n",
      " [ 9 11]]\n",
      "--- the associated output y will look like ----\n",
      "[[ 5]\n",
      " [ 7]\n",
      " [ 9]\n",
      " [11]\n",
      " [13]]\n"
     ]
    }
   ],
   "source": [
    "# run a window of size 2 over the odd number sequence and display the results\n",
    "window_size = 2\n",
    "\n",
    "X = []\n",
    "X.append(odd_nums[0:2])\n",
    "X.append(odd_nums[1:3])\n",
    "X.append(odd_nums[2:4])\n",
    "X.append(odd_nums[3:5])\n",
    "X.append(odd_nums[4:6])\n",
    "\n",
    "y = odd_nums[2:]\n",
    "\n",
    "X = np.asarray(X)\n",
    "y = np.asarray(y)\n",
    "y = np.reshape(y, (len(y),1)) #optional\n",
    "\n",
    "assert(type(X).__name__ == 'ndarray')\n",
    "assert(type(y).__name__ == 'ndarray')\n",
    "assert(X.shape == (5,2))\n",
    "assert(y.shape in [(5,1), (5,)])\n",
    "\n",
    "# print out input/output pairs --> here input = X, corresponding output = y\n",
    "print ('--- the input X will look like ----')\n",
    "print (X)\n",
    "\n",
    "print ('--- the associated output y will look like ----')\n",
    "print (y)"
   ]
  },
  {
   "cell_type": "markdown",
   "metadata": {},
   "source": [
    "Again - you can check that your completed **window_transform_series** function works correctly by trying it on the odd_nums sequence - you should get the above output."
   ]
  },
  {
   "cell_type": "code",
   "execution_count": 35,
   "metadata": {},
   "outputs": [
    {
     "data": {
      "text/plain": [
       "(array([[ 1,  3],\n",
       "        [ 3,  5],\n",
       "        [ 5,  7],\n",
       "        [ 7,  9],\n",
       "        [ 9, 11]]), array([[ 5],\n",
       "        [ 7],\n",
       "        [ 9],\n",
       "        [11],\n",
       "        [13]]))"
      ]
     },
     "execution_count": 35,
     "metadata": {},
     "output_type": "execute_result"
    }
   ],
   "source": [
    "### TODO: implement the function window_transform_series in the file my_answers.py\n",
    "from my_answers import window_transform_series\n",
    "\n",
    "window_transform_series(odd_nums, window_size)"
   ]
  },
  {
   "cell_type": "markdown",
   "metadata": {},
   "source": [
    "With this function in place apply it to the series in the Python cell below.  We use a window_size = 7 for these experiments."
   ]
  },
  {
   "cell_type": "code",
   "execution_count": 36,
   "metadata": {},
   "outputs": [
    {
     "name": "stdout",
     "output_type": "stream",
     "text": [
      "[[-0.70062339 -0.82088484 -0.93938305 -0.9471652  -0.68785527 -0.84325902\n",
      "  -0.80532018]\n",
      " [-0.82088484 -0.93938305 -0.9471652  -0.68785527 -0.84325902 -0.80532018\n",
      "  -0.82058073]\n",
      " [-0.93938305 -0.9471652  -0.68785527 -0.84325902 -0.80532018 -0.82058073\n",
      "  -0.92023124]\n",
      " [-0.9471652  -0.68785527 -0.84325902 -0.80532018 -0.82058073 -0.92023124\n",
      "  -1.        ]\n",
      " [-0.68785527 -0.84325902 -0.80532018 -0.82058073 -0.92023124 -1.\n",
      "  -0.98814438]\n",
      " [-0.84325902 -0.80532018 -0.82058073 -0.92023124 -1.         -0.98814438\n",
      "  -0.85961411]\n",
      " [-0.80532018 -0.82058073 -0.92023124 -1.         -0.98814438 -0.85961411\n",
      "  -0.8706188 ]\n",
      " [-0.82058073 -0.92023124 -1.         -0.98814438 -0.85961411 -0.8706188\n",
      "  -0.92661512]\n",
      " [-0.92023124 -1.         -0.98814438 -0.85961411 -0.8706188  -0.92661512\n",
      "  -0.80118585]\n",
      " [-1.         -0.98814438 -0.85961411 -0.8706188  -0.92661512 -0.80118585\n",
      "  -0.76288204]\n",
      " [-0.98814438 -0.85961411 -0.8706188  -0.92661512 -0.80118585 -0.76288204\n",
      "  -0.66499478]\n",
      " [-0.85961411 -0.8706188  -0.92661512 -0.80118585 -0.76288204 -0.66499478\n",
      "  -0.67289882]\n",
      " [-0.8706188  -0.92661512 -0.80118585 -0.76288204 -0.66499478 -0.67289882\n",
      "  -0.68220115]\n",
      " [-0.92661512 -0.80118585 -0.76288204 -0.66499478 -0.67289882 -0.68220115\n",
      "  -0.542119  ]\n",
      " [-0.80118585 -0.76288204 -0.66499478 -0.67289882 -0.68220115 -0.542119\n",
      "  -0.46508592]\n",
      " [-0.76288204 -0.66499478 -0.67289882 -0.68220115 -0.542119   -0.46508592\n",
      "  -0.21489592]\n",
      " [-0.66499478 -0.67289882 -0.68220115 -0.542119   -0.46508592 -0.21489592\n",
      "  -0.17020823]\n",
      " [-0.67289882 -0.68220115 -0.542119   -0.46508592 -0.21489592 -0.17020823\n",
      "  -0.08247456]\n",
      " [-0.68220115 -0.542119   -0.46508592 -0.21489592 -0.17020823 -0.08247456\n",
      "   0.06411336]\n",
      " [-0.542119   -0.46508592 -0.21489592 -0.17020823 -0.08247456  0.06411336\n",
      "   0.0857576 ]\n",
      " [-0.46508592 -0.21489592 -0.17020823 -0.08247456  0.06411336  0.0857576\n",
      "   0.38604654]\n",
      " [-0.21489592 -0.17020823 -0.08247456  0.06411336  0.0857576   0.38604654\n",
      "   0.39468034]\n",
      " [-0.17020823 -0.08247456  0.06411336  0.0857576   0.38604654  0.39468034\n",
      "   0.40708331]\n",
      " [-0.08247456  0.06411336  0.0857576   0.38604654  0.39468034  0.40708331\n",
      "   0.55482607]\n",
      " [ 0.06411336  0.0857576   0.38604654  0.39468034  0.40708331  0.55482607\n",
      "   0.4571212 ]\n",
      " [ 0.0857576   0.38604654  0.39468034  0.40708331  0.55482607  0.4571212\n",
      "   0.217267  ]\n",
      " [ 0.38604654  0.39468034  0.40708331  0.55482607  0.4571212   0.217267\n",
      "   0.38258092]\n",
      " [ 0.39468034  0.40708331  0.55482607  0.4571212   0.217267    0.38258092\n",
      "   0.16187873]\n",
      " [ 0.40708331  0.55482607  0.4571212   0.217267    0.38258092  0.16187873\n",
      "   0.16838432]\n",
      " [ 0.55482607  0.4571212   0.217267    0.38258092  0.16187873  0.16838432\n",
      "  -0.00227998]\n",
      " [ 0.4571212   0.217267    0.38258092  0.16187873  0.16838432 -0.00227998\n",
      "   0.21903043]\n",
      " [ 0.217267    0.38258092  0.16187873  0.16838432 -0.00227998  0.21903043\n",
      "   0.16187873]\n",
      " [ 0.38258092  0.16187873  0.16838432 -0.00227998  0.21903043  0.16187873\n",
      "   0.3212949 ]\n",
      " [ 0.16187873  0.16838432 -0.00227998  0.21903043  0.16187873  0.3212949\n",
      "   0.21939484]\n",
      " [ 0.16838432 -0.00227998  0.21903043  0.16187873  0.3212949   0.21939484\n",
      "   0.2579419 ]\n",
      " [-0.00227998  0.21903043  0.16187873  0.3212949   0.21939484  0.2579419\n",
      "   0.30311627]\n",
      " [ 0.21903043  0.16187873  0.3212949   0.21939484  0.2579419   0.30311627\n",
      "   0.42818056]\n",
      " [ 0.16187873  0.3212949   0.21939484  0.2579419   0.30311627  0.42818056\n",
      "   0.42708622]\n",
      " [ 0.3212949   0.21939484  0.2579419   0.30311627  0.42818056  0.42708622\n",
      "   0.36190893]\n",
      " [ 0.21939484  0.2579419   0.30311627  0.42818056  0.42708622  0.36190893\n",
      "   0.34075119]\n",
      " [ 0.2579419   0.30311627  0.42818056  0.42708622  0.36190893  0.34075119\n",
      "   0.5010795 ]\n",
      " [ 0.30311627  0.42818056  0.42708622  0.36190893  0.34075119  0.5010795\n",
      "   0.53816706]\n",
      " [ 0.42818056  0.42708622  0.36190893  0.34075119  0.5010795   0.53816706\n",
      "   0.70001536]\n",
      " [ 0.42708622  0.36190893  0.34075119  0.5010795   0.53816706  0.70001536\n",
      "   0.88229221]\n",
      " [ 0.36190893  0.34075119  0.5010795   0.53816706  0.70001536  0.88229221\n",
      "   0.79577461]\n",
      " [ 0.34075119  0.5010795   0.53816706  0.70001536  0.88229221  0.79577461\n",
      "   0.88508912]\n",
      " [ 0.5010795   0.53816706  0.70001536  0.88229221  0.79577461  0.88508912\n",
      "   1.        ]\n",
      " [ 0.53816706  0.70001536  0.88229221  0.79577461  0.88508912  1.\n",
      "   0.92406145]\n",
      " [ 0.70001536  0.88229221  0.79577461  0.88508912  1.          0.92406145\n",
      "   0.82860613]\n",
      " [ 0.88229221  0.79577461  0.88508912  1.          0.92406145  0.82860613\n",
      "   0.68098508]\n",
      " [ 0.79577461  0.88508912  1.          0.92406145  0.82860613  0.68098508\n",
      "   0.59264357]\n",
      " [ 0.88508912  1.          0.92406145  0.82860613  0.68098508  0.59264357\n",
      "   0.47146979]\n",
      " [ 1.          0.92406145  0.82860613  0.68098508  0.59264357  0.47146979\n",
      "   0.36482757]\n",
      " [ 0.92406145  0.82860613  0.68098508  0.59264357  0.47146979  0.36482757\n",
      "   0.2957594 ]\n",
      " [ 0.82860613  0.68098508  0.59264357  0.47146979  0.36482757  0.2957594\n",
      "   0.11719085]\n",
      " [ 0.68098508  0.59264357  0.47146979  0.36482757  0.2957594   0.11719085\n",
      "   0.03547666]\n",
      " [ 0.59264357  0.47146979  0.36482757  0.2957594   0.11719085  0.03547666\n",
      "   0.24943019]\n",
      " [ 0.47146979  0.36482757  0.2957594   0.11719085  0.03547666  0.24943019\n",
      "   0.35734934]\n",
      " [ 0.36482757  0.2957594   0.11719085  0.03547666  0.24943019  0.35734934\n",
      "  -0.06003953]\n",
      " [ 0.2957594   0.11719085  0.03547666  0.24943019  0.35734934 -0.06003953\n",
      "  -0.1577444 ]\n",
      " [ 0.11719085  0.03547666  0.24943019  0.35734934 -0.06003953 -0.1577444\n",
      "  -0.08831108]\n",
      " [ 0.03547666  0.24943019  0.35734934 -0.06003953 -0.1577444  -0.08831108\n",
      "  -0.14801663]\n",
      " [ 0.24943019  0.35734934 -0.06003953 -0.1577444  -0.08831108 -0.14801663\n",
      "  -0.07827939]\n",
      " [ 0.35734934 -0.06003953 -0.1577444  -0.08831108 -0.14801663 -0.07827939\n",
      "  -0.19574392]\n",
      " [-0.06003953 -0.1577444  -0.08831108 -0.14801663 -0.07827939 -0.19574392\n",
      "  -0.18431376]\n",
      " [-0.1577444  -0.08831108 -0.14801663 -0.07827939 -0.19574392 -0.18431376\n",
      "  -0.59002904]\n",
      " [-0.08831108 -0.14801663 -0.07827939 -0.19574392 -0.18431376 -0.59002904\n",
      "  -0.4922635 ]\n",
      " [-0.14801663 -0.07827939 -0.19574392 -0.18431376 -0.59002904 -0.4922635\n",
      "  -0.35491721]\n",
      " [-0.07827939 -0.19574392 -0.18431376 -0.59002904 -0.4922635  -0.35491721\n",
      "  -0.44854844]\n",
      " [-0.19574392 -0.18431376 -0.59002904 -0.4922635  -0.35491721 -0.44854844\n",
      "  -0.49262809]\n",
      " [-0.18431376 -0.59002904 -0.4922635  -0.35491721 -0.44854844 -0.49262809\n",
      "  -0.65101096]\n",
      " [-0.59002904 -0.4922635  -0.35491721 -0.44854844 -0.49262809 -0.65101096\n",
      "  -0.63915498]\n",
      " [-0.4922635  -0.35491721 -0.44854844 -0.49262809 -0.65101096 -0.63915498\n",
      "  -0.56801947]\n",
      " [-0.35491721 -0.44854844 -0.49262809 -0.65101096 -0.63915498 -0.56801947\n",
      "  -0.42672144]\n",
      " [-0.44854844 -0.49262809 -0.65101096 -0.63915498 -0.56801947 -0.42672144\n",
      "  -0.5652836 ]\n",
      " [-0.49262809 -0.65101096 -0.63915498 -0.56801947 -0.42672144 -0.5652836\n",
      "  -0.66894689]\n",
      " [-0.65101096 -0.63915498 -0.56801947 -0.42672144 -0.5652836  -0.66894689\n",
      "  -0.65587485]\n",
      " [-0.63915498 -0.56801947 -0.42672144 -0.5652836  -0.66894689 -0.65587485\n",
      "  -0.86478211]\n",
      " [-0.56801947 -0.42672144 -0.5652836  -0.66894689 -0.65587485 -0.86478211\n",
      "  -0.69569846]\n",
      " [-0.42672144 -0.5652836  -0.66894689 -0.65587485 -0.86478211 -0.69569846\n",
      "  -0.48131966]\n",
      " [-0.5652836  -0.66894689 -0.65587485 -0.86478211 -0.69569846 -0.48131966\n",
      "  -0.50685535]\n",
      " [-0.66894689 -0.65587485 -0.86478211 -0.69569846 -0.48131966 -0.50685535\n",
      "  -0.62602226]\n",
      " [-0.65587485 -0.86478211 -0.69569846 -0.48131966 -0.50685535 -0.62602226\n",
      "  -0.5166438 ]\n",
      " [-0.86478211 -0.69569846 -0.48131966 -0.50685535 -0.62602226 -0.5166438\n",
      "  -0.5115977 ]\n",
      " [-0.69569846 -0.48131966 -0.50685535 -0.62602226 -0.5166438  -0.5115977\n",
      "  -0.54807742]\n",
      " [-0.48131966 -0.50685535 -0.62602226 -0.5166438  -0.5115977  -0.54807742\n",
      "  -0.62887985]\n",
      " [-0.50685535 -0.62602226 -0.5166438  -0.5115977  -0.54807742 -0.62887985\n",
      "  -0.77504195]\n",
      " [-0.62602226 -0.5166438  -0.5115977  -0.54807742 -0.62887985 -0.77504195\n",
      "  -0.80367848]\n",
      " [-0.5166438  -0.5115977  -0.54807742 -0.62887985 -0.77504195 -0.80367848\n",
      "  -0.69776581]\n",
      " [-0.5115977  -0.54807742 -0.62887985 -0.77504195 -0.80367848 -0.69776581\n",
      "  -0.66797389]\n",
      " [-0.54807742 -0.62887985 -0.77504195 -0.80367848 -0.69776581 -0.66797389\n",
      "  -0.64091822]\n",
      " [-0.62887985 -0.77504195 -0.80367848 -0.69776581 -0.66797389 -0.64091822\n",
      "  -0.57197158]\n",
      " [-0.77504195 -0.80367848 -0.69776581 -0.66797389 -0.64091822 -0.57197158\n",
      "  -0.42672144]\n",
      " [-0.80367848 -0.69776581 -0.66797389 -0.64091822 -0.57197158 -0.42672144\n",
      "  -0.47432738]\n",
      " [-0.69776581 -0.66797389 -0.64091822 -0.57197158 -0.42672144 -0.47432738\n",
      "  -0.18565155]\n",
      " [-0.66797389 -0.64091822 -0.57197158 -0.42672144 -0.47432738 -0.18565155\n",
      "  -0.20747837]\n",
      " [-0.64091822 -0.57197158 -0.42672144 -0.47432738 -0.18565155 -0.20747837\n",
      "  -0.25399015]\n",
      " [-0.57197158 -0.42672144 -0.47432738 -0.18565155 -0.20747837 -0.25399015\n",
      "  -0.18163838]\n",
      " [-0.42672144 -0.47432738 -0.18565155 -0.20747837 -0.25399015 -0.18163838\n",
      "  -0.44915666]\n",
      " [-0.47432738 -0.18565155 -0.20747837 -0.25399015 -0.18163838 -0.44915666\n",
      "  -0.23575011]\n",
      " [-0.18565155 -0.20747837 -0.25399015 -0.18163838 -0.44915666 -0.23575011\n",
      "  -0.35035725]\n",
      " [-0.20747837 -0.25399015 -0.18163838 -0.44915666 -0.23575011 -0.35035725\n",
      "  -0.29375309]\n",
      " [-0.25399015 -0.18163838 -0.44915666 -0.23575011 -0.35035725 -0.29375309\n",
      "  -0.27387135]\n",
      " [-0.18163838 -0.44915666 -0.23575011 -0.35035725 -0.29375309 -0.27387135\n",
      "  -0.14047718]\n",
      " [-0.44915666 -0.23575011 -0.35035725 -0.29375309 -0.27387135 -0.14047718\n",
      "  -0.03547666]\n",
      " [-0.23575011 -0.35035725 -0.29375309 -0.27387135 -0.14047718 -0.03547666\n",
      "  -0.08375149]\n",
      " [-0.35035725 -0.29375309 -0.27387135 -0.14047718 -0.03547666 -0.08375149\n",
      "  -0.09050015]\n",
      " [-0.29375309 -0.27387135 -0.14047718 -0.03547666 -0.08375149 -0.09050015\n",
      "  -0.06010039]\n",
      " [-0.27387135 -0.14047718 -0.03547666 -0.08375149 -0.09050015 -0.06010039\n",
      "  -0.08423762]\n",
      " [-0.14047718 -0.03547666 -0.08375149 -0.09050015 -0.06010039 -0.08423762\n",
      "   0.1405989 ]\n",
      " [-0.03547666 -0.08375149 -0.09050015 -0.06010039 -0.08423762  0.1405989\n",
      "   0.1582309 ]\n",
      " [-0.08375149 -0.09050015 -0.06010039 -0.08423762  0.1405989   0.1582309\n",
      "   0.12248076]\n",
      " [-0.09050015 -0.06010039 -0.08423762  0.1405989   0.1582309   0.12248076\n",
      "   0.20139842]\n",
      " [-0.06010039 -0.08423762  0.1405989   0.1582309   0.12248076  0.20139842\n",
      "   0.13731586]\n",
      " [-0.08423762  0.1405989   0.1582309   0.12248076  0.20139842  0.13731586\n",
      "   0.01565595]\n",
      " [ 0.1405989   0.1582309   0.12248076  0.20139842  0.13731586  0.01565595\n",
      "  -0.03018676]\n",
      " [ 0.1582309   0.12248076  0.20139842  0.13731586  0.01565595 -0.03018676\n",
      "   0.03717885]\n",
      " [ 0.12248076  0.20139842  0.13731586  0.01565595 -0.03018676  0.03717885\n",
      "   0.09238492]\n",
      " [ 0.20139842  0.13731586  0.01565595 -0.03018676  0.03717885  0.09238492\n",
      "  -0.19616956]\n",
      " [ 0.13731586  0.01565595 -0.03018676  0.03717885  0.09238492 -0.19616956\n",
      "  -0.09858659]\n",
      " [ 0.01565595 -0.03018676  0.03717885  0.09238492 -0.19616956 -0.09858659\n",
      "   0.06763947]\n",
      " [-0.03018676  0.03717885  0.09238492 -0.19616956 -0.09858659  0.06763947\n",
      "  -0.07128729]\n",
      " [ 0.03717885  0.09238492 -0.19616956 -0.09858659  0.06763947 -0.07128729\n",
      "  -0.06964596]\n",
      " [ 0.09238492 -0.19616956 -0.09858659  0.06763947 -0.07128729 -0.06964596\n",
      "  -0.03961061]\n",
      " [-0.19616956 -0.09858659  0.06763947 -0.07128729 -0.06964596 -0.03961061\n",
      "  -0.04362396]\n",
      " [-0.09858659  0.06763947 -0.07128729 -0.06964596 -0.03961061 -0.04362396\n",
      "   0.0215537 ]\n",
      " [ 0.06763947 -0.07128729 -0.06964596 -0.03961061 -0.04362396  0.0215537\n",
      "   0.02647845]\n",
      " [-0.07128729 -0.06964596 -0.03961061 -0.04362396  0.0215537   0.02647845\n",
      "  -0.04167795]\n",
      " [-0.06964596 -0.03961061 -0.04362396  0.0215537   0.02647845 -0.04167795\n",
      "  -0.07888723]\n",
      " [-0.03961061 -0.04362396  0.0215537   0.02647845 -0.04167795 -0.07888723\n",
      "  -0.05797255]\n",
      " [-0.04362396  0.0215537   0.02647845 -0.04167795 -0.07888723 -0.05797255\n",
      "   0.23058249]] [[-0.82058073]\n",
      " [-0.92023124]\n",
      " [-1.        ]\n",
      " [-0.98814438]\n",
      " [-0.85961411]\n",
      " [-0.8706188 ]\n",
      " [-0.92661512]\n",
      " [-0.80118585]\n",
      " [-0.76288204]\n",
      " [-0.66499478]\n",
      " [-0.67289882]\n",
      " [-0.68220115]\n",
      " [-0.542119  ]\n",
      " [-0.46508592]\n",
      " [-0.21489592]\n",
      " [-0.17020823]\n",
      " [-0.08247456]\n",
      " [ 0.06411336]\n",
      " [ 0.0857576 ]\n",
      " [ 0.38604654]\n",
      " [ 0.39468034]\n",
      " [ 0.40708331]\n",
      " [ 0.55482607]\n",
      " [ 0.4571212 ]\n",
      " [ 0.217267  ]\n",
      " [ 0.38258092]\n",
      " [ 0.16187873]\n",
      " [ 0.16838432]\n",
      " [-0.00227998]\n",
      " [ 0.21903043]\n",
      " [ 0.16187873]\n",
      " [ 0.3212949 ]\n",
      " [ 0.21939484]\n",
      " [ 0.2579419 ]\n",
      " [ 0.30311627]\n",
      " [ 0.42818056]\n",
      " [ 0.42708622]\n",
      " [ 0.36190893]\n",
      " [ 0.34075119]\n",
      " [ 0.5010795 ]\n",
      " [ 0.53816706]\n",
      " [ 0.70001536]\n",
      " [ 0.88229221]\n",
      " [ 0.79577461]\n",
      " [ 0.88508912]\n",
      " [ 1.        ]\n",
      " [ 0.92406145]\n",
      " [ 0.82860613]\n",
      " [ 0.68098508]\n",
      " [ 0.59264357]\n",
      " [ 0.47146979]\n",
      " [ 0.36482757]\n",
      " [ 0.2957594 ]\n",
      " [ 0.11719085]\n",
      " [ 0.03547666]\n",
      " [ 0.24943019]\n",
      " [ 0.35734934]\n",
      " [-0.06003953]\n",
      " [-0.1577444 ]\n",
      " [-0.08831108]\n",
      " [-0.14801663]\n",
      " [-0.07827939]\n",
      " [-0.19574392]\n",
      " [-0.18431376]\n",
      " [-0.59002904]\n",
      " [-0.4922635 ]\n",
      " [-0.35491721]\n",
      " [-0.44854844]\n",
      " [-0.49262809]\n",
      " [-0.65101096]\n",
      " [-0.63915498]\n",
      " [-0.56801947]\n",
      " [-0.42672144]\n",
      " [-0.5652836 ]\n",
      " [-0.66894689]\n",
      " [-0.65587485]\n",
      " [-0.86478211]\n",
      " [-0.69569846]\n",
      " [-0.48131966]\n",
      " [-0.50685535]\n",
      " [-0.62602226]\n",
      " [-0.5166438 ]\n",
      " [-0.5115977 ]\n",
      " [-0.54807742]\n",
      " [-0.62887985]\n",
      " [-0.77504195]\n",
      " [-0.80367848]\n",
      " [-0.69776581]\n",
      " [-0.66797389]\n",
      " [-0.64091822]\n",
      " [-0.57197158]\n",
      " [-0.42672144]\n",
      " [-0.47432738]\n",
      " [-0.18565155]\n",
      " [-0.20747837]\n",
      " [-0.25399015]\n",
      " [-0.18163838]\n",
      " [-0.44915666]\n",
      " [-0.23575011]\n",
      " [-0.35035725]\n",
      " [-0.29375309]\n",
      " [-0.27387135]\n",
      " [-0.14047718]\n",
      " [-0.03547666]\n",
      " [-0.08375149]\n",
      " [-0.09050015]\n",
      " [-0.06010039]\n",
      " [-0.08423762]\n",
      " [ 0.1405989 ]\n",
      " [ 0.1582309 ]\n",
      " [ 0.12248076]\n",
      " [ 0.20139842]\n",
      " [ 0.13731586]\n",
      " [ 0.01565595]\n",
      " [-0.03018676]\n",
      " [ 0.03717885]\n",
      " [ 0.09238492]\n",
      " [-0.19616956]\n",
      " [-0.09858659]\n",
      " [ 0.06763947]\n",
      " [-0.07128729]\n",
      " [-0.06964596]\n",
      " [-0.03961061]\n",
      " [-0.04362396]\n",
      " [ 0.0215537 ]\n",
      " [ 0.02647845]\n",
      " [-0.04167795]\n",
      " [-0.07888723]\n",
      " [-0.05797255]\n",
      " [ 0.23058249]\n",
      " [ 0.33600865]]\n"
     ]
    }
   ],
   "source": [
    "# window the data using your windowing function\n",
    "window_size = 7\n",
    "X,y = window_transform_series(series = dataset,window_size = window_size)\n",
    "print(X, y)"
   ]
  },
  {
   "cell_type": "markdown",
   "metadata": {},
   "source": [
    "## 1.3  Splitting into training and testing sets\n",
    "\n",
    "In order to perform proper testing on our dataset we will lop off the last 1/3 of it for validation (or testing).  This is that once we train our model we have something to test it on (like any regression problem!).  This splitting into training/testing sets is done in the cell below.\n",
    "\n",
    "Note how here we are **not** splitting the dataset *randomly* as one typically would do when validating a regression model.  This is because our input/output pairs *are related temporally*.   We don't want to validate our model by training on a random subset of the series and then testing on another random subset, as this simulates the scenario that we receive new points *within the timeframe of our training set*.  \n",
    "\n",
    "We want to train on one solid chunk of the series (in our case, the first full 2/3 of it), and validate on a later chunk (the last 1/3) as this simulates how we would predict *future* values of a time series."
   ]
  },
  {
   "cell_type": "code",
   "execution_count": 37,
   "metadata": {},
   "outputs": [
    {
     "name": "stdout",
     "output_type": "stream",
     "text": [
      "88\n"
     ]
    }
   ],
   "source": [
    "# split our dataset into training / testing sets\n",
    "train_test_split = int(np.ceil(2*len(y)/float(3)))   # set the split point\n",
    "print(train_test_split)\n",
    "# partition the training set\n",
    "X_train = X[:train_test_split,:]\n",
    "y_train = y[:train_test_split]\n",
    "\n",
    "# keep the last chunk for testing\n",
    "X_test = X[train_test_split:,:]\n",
    "y_test = y[train_test_split:]\n",
    "\n",
    "# NOTE: to use keras's RNN LSTM module our input must be reshaped to [samples, window size, stepsize] \n",
    "X_train = np.asarray(np.reshape(X_train, (X_train.shape[0], window_size, 1)))\n",
    "X_test = np.asarray(np.reshape(X_test, (X_test.shape[0], window_size, 1)))"
   ]
  },
  {
   "cell_type": "markdown",
   "metadata": {},
   "source": [
    "<a id='TODO_2'></a>\n",
    "\n",
    "## 1.4  Build and run an RNN regression model\n",
    "\n",
    "Having created input/output pairs out of our time series and cut this into training/testing sets, we can now begin setting up our RNN.  We use Keras to quickly build a two hidden layer RNN of the following specifications\n",
    "\n",
    "- layer 1 uses an LSTM module with 5 hidden units (note here the input_shape = (window_size,1))\n",
    "- layer 2 uses a fully connected module with one unit\n",
    "- the 'mean_squared_error' loss should be used (remember: we are performing regression here)\n",
    "\n",
    "This can be constructed using just a few lines - see e.g., the [general Keras documentation](https://keras.io/getting-started/sequential-model-guide/) and the [LSTM documentation in particular](https://keras.io/layers/recurrent/) for examples of how to quickly use Keras to build neural network models.  Make sure you are initializing your optimizer given the [keras-recommended approach for RNNs](https://keras.io/optimizers/) \n",
    "\n",
    "(given in the cell below).  (remember to copy your completed function into the script *my_answers.py* function titled *build_part1_RNN* before submitting your project)"
   ]
  },
  {
   "cell_type": "code",
   "execution_count": 38,
   "metadata": {},
   "outputs": [],
   "source": [
    "### TODO: create required RNN model\n",
    "# import keras network libraries\n",
    "from keras.models import Sequential\n",
    "from keras.layers import Dense\n",
    "from keras.layers import LSTM\n",
    "import keras\n",
    "\n",
    "# given - fix random seed - so we can all reproduce the same results on our default time series\n",
    "np.random.seed(22222)\n",
    "\n",
    "\n",
    "# TODO: implement build_part1_RNN in my_answers.py\n",
    "from my_answers import build_part1_RNN\n",
    "model = build_part1_RNN(window_size)\n",
    "\n",
    "# build model using keras documentation recommended optimizer initialization\n",
    "optimizer = keras.optimizers.RMSprop(lr=0.001, rho=0.9, epsilon=1e-08, decay=0.0)\n",
    "\n",
    "# compile the model\n",
    "model.compile(loss='mean_squared_error', optimizer=optimizer)"
   ]
  },
  {
   "cell_type": "markdown",
   "metadata": {},
   "source": [
    "With your model built you can now fit the model by activating the cell below!  Note: the number of epochs (np_epochs) and batch_size are preset (so we can all produce the same results).  You can choose to toggle the verbose parameter - which gives you regular updates on the progress of the algorithm - on and off by setting it to 1 or 0 respectively."
   ]
  },
  {
   "cell_type": "code",
   "execution_count": 39,
   "metadata": {},
   "outputs": [
    {
     "data": {
      "text/plain": [
       "<keras.callbacks.History at 0x121bbe198>"
      ]
     },
     "execution_count": 39,
     "metadata": {},
     "output_type": "execute_result"
    }
   ],
   "source": [
    "# run your model!\n",
    "model.fit(X_train, y_train, epochs=1000, batch_size=50, verbose=0)"
   ]
  },
  {
   "cell_type": "markdown",
   "metadata": {},
   "source": [
    "## 1.5  Checking model performance\n",
    "\n",
    "With your model fit we can now make predictions on both our training and testing sets."
   ]
  },
  {
   "cell_type": "code",
   "execution_count": 40,
   "metadata": {
    "collapsed": true
   },
   "outputs": [],
   "source": [
    "# generate predictions for training\n",
    "train_predict = model.predict(X_train)\n",
    "test_predict = model.predict(X_test)"
   ]
  },
  {
   "cell_type": "markdown",
   "metadata": {},
   "source": [
    "In the next cell we compute training and testing errors using our trained model - you should be able to achieve at least\n",
    "\n",
    "*training_error* < 0.02\n",
    "\n",
    "and \n",
    "\n",
    "*testing_error* < 0.02\n",
    "\n",
    "with your fully trained model.  \n",
    "\n",
    "If either or both of your accuracies are larger than 0.02 re-train your model - increasing the number of epochs you take (a maximum of around 1,000 should do the job) and/or adjusting your batch_size."
   ]
  },
  {
   "cell_type": "code",
   "execution_count": 41,
   "metadata": {},
   "outputs": [
    {
     "name": "stdout",
     "output_type": "stream",
     "text": [
      "training error = 0.0161281043494\n",
      "testing error = 0.014188454638\n"
     ]
    }
   ],
   "source": [
    "# print out training and testing errors\n",
    "training_error = model.evaluate(X_train, y_train, verbose=0)\n",
    "print('training error = ' + str(training_error))\n",
    "\n",
    "testing_error = model.evaluate(X_test, y_test, verbose=0)\n",
    "print('testing error = ' + str(testing_error))"
   ]
  },
  {
   "cell_type": "markdown",
   "metadata": {},
   "source": [
    "Activating the next cell plots the original data, as well as both predictions on the training and testing sets. "
   ]
  },
  {
   "cell_type": "code",
   "execution_count": 42,
   "metadata": {},
   "outputs": [
    {
     "data": {
      "image/png": "[encoded data removed]",
      "text/plain": [
       "<matplotlib.figure.Figure at 0x1212c5e80>"
      ]
     },
     "metadata": {},
     "output_type": "display_data"
    }
   ],
   "source": [
    "### Plot everything - the original series as well as predictions on training and testing sets\n",
    "import matplotlib.pyplot as plt\n",
    "%matplotlib inline\n",
    "\n",
    "# plot original series\n",
    "plt.plot(dataset,color = 'k')\n",
    "\n",
    "# plot training set prediction\n",
    "split_pt = train_test_split + window_size \n",
    "plt.plot(np.arange(window_size,split_pt,1),train_predict,color = 'b')\n",
    "\n",
    "# plot testing set prediction\n",
    "plt.plot(np.arange(split_pt,split_pt + len(test_predict),1),test_predict,color = 'r')\n",
    "\n",
    "# pretty up graph\n",
    "plt.xlabel('day')\n",
    "plt.ylabel('(normalized) price of Apple stock')\n",
    "plt.legend(['original series','training fit','testing fit'],loc='center left', bbox_to_anchor=(1, 0.5))\n",
    "plt.show()"
   ]
  },
  {
   "cell_type": "markdown",
   "metadata": {},
   "source": [
    "**Note:** you can try out any time series for this exercise!  If you would like to try another see e.g., [this site containing thousands of time series](https://datamarket.com/data/list/?q=provider%3Atsdl) and pick another one!"
   ]
  },
  {
   "cell_type": "markdown",
   "metadata": {},
   "source": [
    "# Problem 2: Create a sequence generator"
   ]
  },
  {
   "cell_type": "markdown",
   "metadata": {},
   "source": [
    "## 2.1  Getting started\n",
    "\n",
    "In this project you will implement a popular Recurrent Neural Network (RNN) architecture to create an English language sequence generator capable of building semi-coherent English sentences from scratch by building them up character-by-character.  This will require a substantial amount amount of parameter tuning on a large training corpus (at least 100,000 characters long).  In particular for this project we will be using a complete version of Sir Arthur Conan Doyle's classic book The Adventures of Sherlock Holmes.\n",
    "\n",
    "How can we train a machine learning model to generate text automatically, character-by-character?  *By showing the model many training examples so it can learn a pattern between input and output.*  With this type of text generation each input is a string of valid characters like this one\n",
    "\n",
    "*dogs are grea*\n",
    "\n",
    "while the corresponding output is the next character in the sentence - which here is 't' (since the complete sentence is 'dogs are great').  We need to show a model many such examples in order for it to make reasonable predictions.\n",
    "\n",
    "**Fun note:** For those interested in how text generation is being used check out some of the following fun resources:\n",
    "\n",
    "- [Generate wacky sentences](http://www.cs.toronto.edu/~ilya/rnn.html) with this academic RNN text generator\n",
    "\n",
    "- Various twitter bots that tweet automatically generated text like[this one](http://tweet-generator-alex.herokuapp.com/).\n",
    "\n",
    "- the [NanoGenMo](https://github.com/NaNoGenMo/2016) annual contest to automatically produce a 50,000+ novel automatically\n",
    "\n",
    "- [Robot Shakespeare](https://github.com/genekogan/RobotShakespeare) a text generator that automatically produces Shakespear-esk sentences"
   ]
  },
  {
   "cell_type": "markdown",
   "metadata": {},
   "source": [
    "## 2.2  Preprocessing a text dataset\n",
    "\n",
    "Our first task is to get a large text corpus for use in training, and on it we perform a several light pre-processing tasks.  The default corpus we will use is the classic book Sherlock Holmes, but you can use a variety of others as well - so long as they are fairly large (around 100,000 characters or more).  "
   ]
  },
  {
   "cell_type": "code",
   "execution_count": null,
   "metadata": {
    "collapsed": true
   },
   "outputs": [],
   "source": [
    "# read in the text, transforming everything to lower case\n",
    "text = open('datasets/holmes.txt').read().lower()\n",
    "print('our original text has ' + str(len(text)) + ' characters')"
   ]
  },
  {
   "cell_type": "markdown",
   "metadata": {},
   "source": [
    "Next, lets examine a bit of the raw text.  Because we are interested in creating sentences of English words automatically by building up each word character-by-character, we only want to train on valid English words.  In other words - we need to remove all of the other characters that are not part of English words."
   ]
  },
  {
   "cell_type": "code",
   "execution_count": null,
   "metadata": {
    "collapsed": true
   },
   "outputs": [],
   "source": [
    "### print out the first 1000 characters of the raw text to get a sense of what we need to throw out\n",
    "text[:2000]"
   ]
  },
  {
   "cell_type": "markdown",
   "metadata": {},
   "source": [
    "Wow - there's a lot of junk here (i.e., weird uncommon character combinations - as this first character chunk contains the title and author page, as well as table of contents)!  To keep things simple, we want to train our RNN on a large chunk of more typical English sentences - we don't want it to start thinking non-english words or strange characters are valid! - so lets clean up the data a bit.\n",
    "\n",
    "First, since the dataset is so large and the first few hundred characters contain a lot of junk, lets cut it out.  Lets also find-and-replace those newline tags with empty spaces."
   ]
  },
  {
   "cell_type": "code",
   "execution_count": null,
   "metadata": {
    "collapsed": true
   },
   "outputs": [],
   "source": [
    "### find and replace '\\n' and '\\r' symbols - replacing them \n",
    "text = text[1302:]\n",
    "text = text.replace('\\n',' ')    # replacing '\\n' with '' simply removes the sequence\n",
    "text = text.replace('\\r',' ')"
   ]
  },
  {
   "cell_type": "markdown",
   "metadata": {},
   "source": [
    "Lets see how the first 1000 characters of our text looks now!"
   ]
  },
  {
   "cell_type": "code",
   "execution_count": null,
   "metadata": {
    "collapsed": true
   },
   "outputs": [],
   "source": [
    "### print out the first 1000 characters of the raw text to get a sense of what we need to throw out\n",
    "text[:1000]"
   ]
  },
  {
   "cell_type": "markdown",
   "metadata": {},
   "source": [
    "<a id='TODO_3'></a>\n",
    "\n",
    "#### TODO: finish cleaning the text\n",
    "\n",
    "Lets make sure we haven't left any other atypical characters (commas, periods, etc., are ok) lurking around in the depths of the text.  You can do this by enumerating all the text's unique characters, examining them, and then replacing any unwanted characters with empty spaces!  Once we find all of the text's unique characters, we can remove all of the atypical ones in the next cell.  Note: don't remove the punctuation marks given in my_answers.py."
   ]
  },
  {
   "cell_type": "code",
   "execution_count": null,
   "metadata": {
    "collapsed": true
   },
   "outputs": [],
   "source": [
    "### TODO: implement cleaned_text in my_answers.py\n",
    "from my_answers import cleaned_text\n",
    "\n",
    "text = cleaned_text(text)\n",
    "\n",
    "# shorten any extra dead space created above\n",
    "text = text.replace('  ',' ')"
   ]
  },
  {
   "cell_type": "markdown",
   "metadata": {},
   "source": [
    "With your chosen characters removed print out the first few hundred lines again just to double check that everything looks good."
   ]
  },
  {
   "cell_type": "code",
   "execution_count": null,
   "metadata": {
    "collapsed": true
   },
   "outputs": [],
   "source": [
    "### print out the first 2000 characters of the raw text to get a sense of what we need to throw out\n",
    "text[:2000]"
   ]
  },
  {
   "cell_type": "markdown",
   "metadata": {},
   "source": [
    "Now that we have thrown out a good number of non-English characters/character sequences lets print out some statistics about the dataset - including number of total characters and number of unique characters."
   ]
  },
  {
   "cell_type": "code",
   "execution_count": null,
   "metadata": {
    "collapsed": true
   },
   "outputs": [],
   "source": [
    "# count the number of unique characters in the text\n",
    "chars = sorted(list(set(text)))\n",
    "\n",
    "# print some of the text, as well as statistics\n",
    "print (\"this corpus has \" +  str(len(text)) + \" total number of characters\")\n",
    "print (\"this corpus has \" +  str(len(chars)) + \" unique characters\")"
   ]
  },
  {
   "cell_type": "markdown",
   "metadata": {},
   "source": [
    "## 2.3  Cutting data into input/output pairs\n",
    "\n",
    "Now that we have our text all cleaned up, how can we use it to train a model to generate sentences automatically?  First we need to train a machine learning model - and in order to do that we need a set of input/output pairs for a model to train on.  How can we create a set of input/output pairs from our text to train on?\n",
    "\n",
    "Remember in part 1 of this notebook how we used a sliding window to extract input/output pairs from a time series?  We do the same thing here!  We slide a window of length $T$ along our giant text corpus - everything in the window becomes one input while the character following becomes its corresponding output.  This process of extracting input/output pairs is illustrated in the gif below on a small example text using a window size of T = 5.\n",
    "\n",
    "<img src=\"images/text_windowing_training.gif\" width=400 height=400/>\n",
    "\n",
    "Notice one aspect of the sliding window in this gif that does not mirror the analogous gif for time series shown in part 1 of the notebook - we do not need to slide the window along one character at a time but can move by a fixed step size $M$ greater than 1 (in the gif indeed $M = 1$).  This is done with large input texts (like ours which has over 500,000 characters!) when sliding the window along one character at a time we would create far too many input/output pairs to be able to reasonably compute with.\n",
    "\n",
    "More formally lets denote our text corpus - which is one long string of characters - as follows\n",
    "\n",
    "$$s_{0},s_{1},s_{2},...,s_{P}$$\n",
    "\n",
    "where $P$ is the length of the text (again for our text $P \\approx 500,000!$).  Sliding a window of size T = 5 with a step length of M = 1 (these are the parameters shown in the gif above) over this sequence produces the following list of input/output pairs\n",
    "\n",
    "\n",
    "$$\\begin{array}{c|c}\n",
    "\\text{Input} & \\text{Output}\\\\\n",
    "\\hline \\color{CornflowerBlue} {\\langle s_{1},s_{2},s_{3},s_{4},s_{5}\\rangle} & \\color{Goldenrod}{ s_{6}} \\\\\n",
    "\\ \\color{CornflowerBlue} {\\langle s_{2},s_{3},s_{4},s_{5},s_{6} \\rangle } & \\color{Goldenrod} {s_{7} } \\\\\n",
    "\\color{CornflowerBlue}  {\\vdots} & \\color{Goldenrod} {\\vdots}\\\\\n",
    "\\color{CornflowerBlue} { \\langle s_{P-5},s_{P-4},s_{P-3},s_{P-2},s_{P-1} \\rangle } & \\color{Goldenrod} {s_{P}}\n",
    "\\end{array}$$\n",
    "\n",
    "Notice here that each input is a sequence (or vector) of 5 characters (and in general has length equal to the window size T) while each corresponding output is a single character.  We created around P total number of input/output pairs  (for general step size M we create around ceil(P/M) pairs)."
   ]
  },
  {
   "cell_type": "markdown",
   "metadata": {},
   "source": [
    "<a id='TODO_4'></a>\n",
    "\n",
    "Now its time for you to window the input time series as described above! \n",
    "\n",
    "**TODO:** Create a function that runs a sliding window along the input text and creates associated input/output pairs.  A skeleton function has been provided for you.  Note that this function should input a) the text  b) the window size and c) the step size, and return the input/output sequences.  Note: the return items should be *lists* - not numpy arrays.\n",
    "\n",
    "(remember to copy your completed function into the script *my_answers.py* function titled *window_transform_text* before submitting your project)"
   ]
  },
  {
   "cell_type": "code",
   "execution_count": null,
   "metadata": {
    "collapsed": true
   },
   "outputs": [],
   "source": [
    "### TODO: implement window_transform_series in my_answers.py\n",
    "from my_answers import window_transform_series"
   ]
  },
  {
   "cell_type": "markdown",
   "metadata": {},
   "source": [
    "With our function complete we can now use it to produce input/output pairs!  We employ the function in the next cell, where the window_size = 50 and step_size = 5."
   ]
  },
  {
   "cell_type": "code",
   "execution_count": null,
   "metadata": {
    "collapsed": true
   },
   "outputs": [],
   "source": [
    "# run your text window-ing function \n",
    "window_size = 100\n",
    "step_size = 5\n",
    "inputs, outputs = window_transform_text(text,window_size,step_size)"
   ]
  },
  {
   "cell_type": "markdown",
   "metadata": {},
   "source": [
    "Lets print out a few input/output pairs to verify that we have made the right sort of stuff!"
   ]
  },
  {
   "cell_type": "code",
   "execution_count": null,
   "metadata": {
    "collapsed": true
   },
   "outputs": [],
   "source": [
    "# print out a few of the input/output pairs to verify that we've made the right kind of stuff to learn from\n",
    "print('input = ' + inputs[2])\n",
    "print('output = ' + outputs[2])\n",
    "print('--------------')\n",
    "print('input = ' + inputs[100])\n",
    "print('output = ' + outputs[100])"
   ]
  },
  {
   "cell_type": "markdown",
   "metadata": {},
   "source": [
    "Looks good!"
   ]
  },
  {
   "cell_type": "markdown",
   "metadata": {},
   "source": [
    "## 2.4  Wait, what kind of problem is text generation again?\n",
    "\n",
    "In part 1 of this notebook we used the same pre-processing technique - the sliding window - to produce a set of training input/output pairs to tackle the problem of time series prediction *by treating the problem as one of regression*.  So what sort of problem do we have here now, with text generation?  Well, the time series prediction was a regression problem because the output (one value of the time series) was a continuous value.  Here - for character-by-character text generation - each output is a *single character*.  This isn't a continuous value - but a distinct class - therefore **character-by-character text generation is a classification problem**.  \n",
    "\n",
    "How many classes are there in the data?  Well, the number of classes is equal to the number of unique characters we have to predict!  How many of those were there in our dataset again?  Lets print out the value again."
   ]
  },
  {
   "cell_type": "code",
   "execution_count": null,
   "metadata": {
    "collapsed": true
   },
   "outputs": [],
   "source": [
    "# print out the number of unique characters in the dataset\n",
    "chars = sorted(list(set(text)))\n",
    "print (\"this corpus has \" +  str(len(chars)) + \" unique characters\")\n",
    "print ('and these characters are ')\n",
    "print (chars)"
   ]
  },
  {
   "cell_type": "markdown",
   "metadata": {},
   "source": [
    "Rockin' - so we have a multiclass classification problem on our hands!"
   ]
  },
  {
   "cell_type": "markdown",
   "metadata": {},
   "source": [
    "## 2.5  One-hot encoding characters\n",
    "\n",
    "The last issue we have to deal with is representing our text data as numerical data so that we can use it as an input to a neural network. One of the conceptually simplest ways of doing this is via a 'one-hot encoding' scheme.  Here's how it works.\n",
    "\n",
    "We transform each character in our inputs/outputs into a vector with length equal to the number of unique characters in our text.  This vector is all zeros except one location where we place a 1 - and this location is unique to each character type.  e.g., we transform 'a', 'b', and 'c' as follows\n",
    "\n",
    "$$a\\longleftarrow\\left[\\begin{array}{c}\n",
    "1\\\\\n",
    "0\\\\\n",
    "0\\\\\n",
    "\\vdots\\\\\n",
    "0\\\\\n",
    "0\n",
    "\\end{array}\\right]\\,\\,\\,\\,\\,\\,\\,b\\longleftarrow\\left[\\begin{array}{c}\n",
    "0\\\\\n",
    "1\\\\\n",
    "0\\\\\n",
    "\\vdots\\\\\n",
    "0\\\\\n",
    "0\n",
    "\\end{array}\\right]\\,\\,\\,\\,\\,c\\longleftarrow\\left[\\begin{array}{c}\n",
    "0\\\\\n",
    "0\\\\\n",
    "1\\\\\n",
    "\\vdots\\\\\n",
    "0\\\\\n",
    "0 \n",
    "\\end{array}\\right]\\cdots$$\n",
    "\n",
    "where each vector has 32 entries (or in general: number of entries = number of unique characters in text)."
   ]
  },
  {
   "cell_type": "markdown",
   "metadata": {},
   "source": [
    "The first practical step towards doing this one-hot encoding is to form a dictionary mapping each unique character to a unique integer, and one dictionary to do the reverse mapping.  We can then use these dictionaries to quickly make our one-hot encodings, as well as re-translate (from integers to characters) the results of our trained RNN classification model."
   ]
  },
  {
   "cell_type": "code",
   "execution_count": null,
   "metadata": {
    "collapsed": true
   },
   "outputs": [],
   "source": [
    "# this dictionary is a function mapping each unique character to a unique integer\n",
    "chars_to_indices = dict((c, i) for i, c in enumerate(chars))  # map each unique character to unique integer\n",
    "\n",
    "# this dictionary is a function mapping each unique integer back to a unique character\n",
    "indices_to_chars = dict((i, c) for i, c in enumerate(chars))  # map each unique integer back to unique character"
   ]
  },
  {
   "cell_type": "markdown",
   "metadata": {},
   "source": [
    "Now we can transform our input/output pairs - consisting of characters - to equivalent input/output pairs made up of one-hot encoded vectors.  In the next cell we provide a function for doing just this: it takes in the raw character input/outputs and returns their numerical versions.  In particular the numerical input is given as $\\bf{X}$, and numerical output is given as the $\\bf{y}$"
   ]
  },
  {
   "cell_type": "code",
   "execution_count": null,
   "metadata": {
    "collapsed": true
   },
   "outputs": [],
   "source": [
    "# transform character-based input/output into equivalent numerical versions\n",
    "def encode_io_pairs(text,window_size,step_size):\n",
    "    # number of unique chars\n",
    "    chars = sorted(list(set(text)))\n",
    "    num_chars = len(chars)\n",
    "    \n",
    "    # cut up text into character input/output pairs\n",
    "    inputs, outputs = window_transform_text(text,window_size,step_size)\n",
    "    \n",
    "    # create empty vessels for one-hot encoded input/output\n",
    "    X = np.zeros((len(inputs), window_size, num_chars), dtype=np.bool)\n",
    "    y = np.zeros((len(inputs), num_chars), dtype=np.bool)\n",
    "    \n",
    "    # loop over inputs/outputs and transform and store in X/y\n",
    "    for i, sentence in enumerate(inputs):\n",
    "        for t, char in enumerate(sentence):\n",
    "            X[i, t, chars_to_indices[char]] = 1\n",
    "        y[i, chars_to_indices[outputs[i]]] = 1\n",
    "        \n",
    "    return X,y"
   ]
  },
  {
   "cell_type": "markdown",
   "metadata": {},
   "source": [
    "Now run the one-hot encoding function by activating the cell below and transform our input/output pairs!"
   ]
  },
  {
   "cell_type": "code",
   "execution_count": null,
   "metadata": {
    "collapsed": true
   },
   "outputs": [],
   "source": [
    "# use your function\n",
    "window_size = 100\n",
    "step_size = 5\n",
    "X,y = encode_io_pairs(text,window_size,step_size)"
   ]
  },
  {
   "cell_type": "markdown",
   "metadata": {},
   "source": [
    "<a id='TODO_5'></a>\n",
    "\n",
    "## 2.6 Setting up our RNN\n",
    "\n",
    "With our dataset loaded and the input/output pairs extracted / transformed we can now begin setting up our RNN for training.  Again we will use Keras to quickly build a single hidden layer RNN - where our hidden layer consists of LSTM modules.\n",
    "\n",
    "Time to get to work: build a 3 layer RNN model of the following specification\n",
    "\n",
    "- layer 1 should be an LSTM module with 200 hidden units --> note this should have input_shape = (window_size,len(chars)) where len(chars) = number of unique characters in your cleaned text\n",
    "- layer 2 should be a linear module, fully connected, with len(chars) hidden units --> where len(chars) = number of unique characters in your cleaned text\n",
    "- layer 3 should be a softmax activation ( since we are solving a *multiclass classification*)\n",
    "- Use the **categorical_crossentropy** loss \n",
    "\n",
    "This network can be constructed using just a few lines - as with the RNN network you made in part 1 of this notebook.  See e.g., the [general Keras documentation](https://keras.io/getting-started/sequential-model-guide/) and the [LSTM documentation in particular](https://keras.io/layers/recurrent/) for examples of how to quickly use Keras to build neural network models."
   ]
  },
  {
   "cell_type": "code",
   "execution_count": null,
   "metadata": {
    "collapsed": true
   },
   "outputs": [],
   "source": [
    "### necessary functions from the keras library\n",
    "from keras.models import Sequential\n",
    "from keras.layers import Dense, Activation, LSTM\n",
    "from keras.optimizers import RMSprop\n",
    "from keras.utils.data_utils import get_file\n",
    "import keras\n",
    "import random\n",
    "\n",
    "# TODO implement build_part2_RNN in my_answers.py\n",
    "from my_answers import build_part2_RNN\n",
    "\n",
    "model = build_part2_RNN(window_size, len(chars))\n",
    "\n",
    "# initialize optimizer\n",
    "optimizer = keras.optimizers.RMSprop(lr=0.001, rho=0.9, epsilon=1e-08, decay=0.0)\n",
    "\n",
    "# compile model --> make sure initialized optimizer and callbacks - as defined above - are used\n",
    "model.compile(loss='categorical_crossentropy', optimizer=optimizer)"
   ]
  },
  {
   "cell_type": "markdown",
   "metadata": {},
   "source": [
    "## 2.7  Training our RNN model for text generation\n",
    "\n",
    "With our RNN setup we can now train it!  Lets begin by trying it out on a small subset of the larger version.  In the next cell we take the first 10,000 input/output pairs from our training database to learn on."
   ]
  },
  {
   "cell_type": "code",
   "execution_count": null,
   "metadata": {
    "collapsed": true
   },
   "outputs": [],
   "source": [
    "# a small subset of our input/output pairs\n",
    "Xsmall = X[:10000,:,:]\n",
    "ysmall = y[:10000,:]"
   ]
  },
  {
   "cell_type": "markdown",
   "metadata": {},
   "source": [
    "Now lets fit our model!"
   ]
  },
  {
   "cell_type": "code",
   "execution_count": null,
   "metadata": {
    "collapsed": true
   },
   "outputs": [],
   "source": [
    "# train the model\n",
    "model.fit(Xsmall, ysmall, batch_size=500, epochs=40,verbose = 1)\n",
    "\n",
    "# save weights\n",
    "model.save_weights('model_weights/best_RNN_small_textdata_weights.hdf5')"
   ]
  },
  {
   "cell_type": "markdown",
   "metadata": {},
   "source": [
    "How do we make a given number of predictions (characters) based on this fitted model?   \n",
    "\n",
    "First we predict the next character after following any chunk of characters in the text of length equal to our chosen window size.  Then we remove the first character in our input sequence and tack our prediction onto the end.  This gives us a slightly changed sequence of inputs that still has length equal to the size of our window.  We then feed in this updated input sequence into the model to predict the another character.  Together then we have two predicted characters following our original input sequence.  Repeating this process N times gives us N predicted characters.\n",
    "\n",
    "In the next Python cell we provide you with a completed function that does just this - it makes predictions when given a) a trained RNN model, b) a subset of (window_size) characters from the text, and c) a number of characters to predict (to follow our input subset)."
   ]
  },
  {
   "cell_type": "code",
   "execution_count": null,
   "metadata": {
    "collapsed": true
   },
   "outputs": [],
   "source": [
    "# function that uses trained model to predict a desired number of future characters\n",
    "def predict_next_chars(model,input_chars,num_to_predict):     \n",
    "    # create output\n",
    "    predicted_chars = ''\n",
    "    for i in range(num_to_predict):\n",
    "        # convert this round's predicted characters to numerical input    \n",
    "        x_test = np.zeros((1, window_size, len(chars)))\n",
    "        for t, char in enumerate(input_chars):\n",
    "            x_test[0, t, chars_to_indices[char]] = 1.\n",
    "\n",
    "        # make this round's prediction\n",
    "        test_predict = model.predict(x_test,verbose = 0)[0]\n",
    "\n",
    "        # translate numerical prediction back to characters\n",
    "        r = np.argmax(test_predict)                           # predict class of each test input\n",
    "        d = indices_to_chars[r] \n",
    "\n",
    "        # update predicted_chars and input\n",
    "        predicted_chars+=d\n",
    "        input_chars+=d\n",
    "        input_chars = input_chars[1:]\n",
    "    return predicted_chars"
   ]
  },
  {
   "cell_type": "markdown",
   "metadata": {},
   "source": [
    "<a id='TODO_6'></a>\n",
    "\n",
    "With your trained model try a few subsets of the complete text as input - note the length of each must be exactly equal to the window size.  For each subset use the function above to predict the next 100 characters that follow each input."
   ]
  },
  {
   "cell_type": "code",
   "execution_count": null,
   "metadata": {
    "collapsed": true,
    "scrolled": true
   },
   "outputs": [],
   "source": [
    "# TODO: choose an input sequence and use the prediction function in the previous Python cell to predict 100 characters following it\n",
    "# get an appropriately sized chunk of characters from the text\n",
    "start_inds = []\n",
    "\n",
    "# load in weights\n",
    "model.load_weights('model_weights/best_RNN_small_textdata_weights.hdf5')\n",
    "for s in start_inds:\n",
    "    start_index = s\n",
    "    input_chars = text[start_index: start_index + window_size]\n",
    "\n",
    "    # use the prediction function\n",
    "    predict_input = predict_next_chars(model,input_chars,num_to_predict = 100)\n",
    "\n",
    "    # print out input characters\n",
    "    print('------------------')\n",
    "    input_line = 'input chars = ' + '\\n' +  input_chars + '\"' + '\\n'\n",
    "    print(input_line)\n",
    "\n",
    "    # print out predicted characters\n",
    "    line = 'predicted chars = ' + '\\n' +  predict_input + '\"' + '\\n'\n",
    "    print(line)"
   ]
  },
  {
   "cell_type": "markdown",
   "metadata": {},
   "source": [
    "This looks ok, but not great.  Now lets try the same experiment with a larger chunk of the data - with the first 100,000 input/output pairs.  \n",
    "\n",
    "Tuning RNNs for a typical character dataset like the one we will use here is a computationally intensive endeavour and thus timely on a typical CPU.  Using a reasonably sized cloud-based GPU can speed up training by a factor of 10.  Also because of the long training time it is highly recommended that you carefully write the output of each step of your process to file.  This is so that all of your results are saved even if you close the web browser you're working out of, as the processes will continue processing in the background but variables/output in the notebook system will not update when you open it again.\n",
    "\n",
    "In the next cell we show you how to create a text file in Python and record data to it.  This sort of setup can be used to record your final predictions."
   ]
  },
  {
   "cell_type": "code",
   "execution_count": null,
   "metadata": {
    "collapsed": true
   },
   "outputs": [],
   "source": [
    "### A simple way to write output to file\n",
    "f = open('my_test_output.txt', 'w')              # create an output file to write too\n",
    "f.write('this is only a test ' + '\\n')           # print some output text\n",
    "x = 2\n",
    "f.write('the value of x is ' + str(x) + '\\n')    # record a variable value\n",
    "f.close()     \n",
    "\n",
    "# print out the contents of my_test_output.txt\n",
    "f = open('my_test_output.txt', 'r')              # create an output file to write too\n",
    "f.read()"
   ]
  },
  {
   "cell_type": "markdown",
   "metadata": {},
   "source": [
    "With this recording devices we can now more safely perform experiments on larger portions of the text.  In the next cell we will use the first 100,000 input/output pairs to train our RNN model."
   ]
  },
  {
   "cell_type": "markdown",
   "metadata": {},
   "source": [
    "First we fit our model to the dataset, then generate text using the trained model in precisely the same generation method applied before on the small dataset.\n",
    "\n",
    "**Note:** your generated words should be - by and large - more realistic than with the small dataset, but you won't be able to generate perfect English sentences even with this amount of data.  A rule of thumb: your model is working well if you generate sentences that largely contain real English words."
   ]
  },
  {
   "cell_type": "code",
   "execution_count": null,
   "metadata": {
    "collapsed": true
   },
   "outputs": [],
   "source": [
    "# a small subset of our input/output pairs\n",
    "Xlarge = X[:100000,:,:]\n",
    "ylarge = y[:100000,:]\n",
    "\n",
    "# TODO: fit to our larger dataset\n",
    "model.fit(Xlarge, ylarge, batch_size=500, epochs=30, verbose=1)\n",
    "\n",
    "# save weights\n",
    "model.save_weights('model_weights/best_RNN_large_textdata_weights.hdf5')"
   ]
  },
  {
   "cell_type": "code",
   "execution_count": null,
   "metadata": {
    "collapsed": true
   },
   "outputs": [],
   "source": [
    "# TODO: choose an input sequence and use the prediction function in the previous Python cell to predict 100 characters following it\n",
    "# get an appropriately sized chunk of characters from the text\n",
    "start_inds = []\n",
    "\n",
    "# save output\n",
    "f = open('text_gen_output/RNN_large_textdata_output.txt', 'w')  # create an output file to write too\n",
    "\n",
    "# load weights\n",
    "model.load_weights('model_weights/best_RNN_large_textdata_weights.hdf5')\n",
    "for s in start_inds:\n",
    "    start_index = s\n",
    "    input_chars = text[start_index: start_index + window_size]\n",
    "\n",
    "    # use the prediction function\n",
    "    predict_input = predict_next_chars(model,input_chars,num_to_predict = 100)\n",
    "\n",
    "    # print out input characters\n",
    "    line = '-------------------' + '\\n'\n",
    "    print(line)\n",
    "    f.write(line)\n",
    "\n",
    "    input_line = 'input chars = ' + '\\n' +  input_chars + '\"' + '\\n'\n",
    "    print(input_line)\n",
    "    f.write(input_line)\n",
    "\n",
    "    # print out predicted characters\n",
    "    predict_line = 'predicted chars = ' + '\\n' +  predict_input + '\"' + '\\n'\n",
    "    print(predict_line)\n",
    "    f.write(predict_line)\n",
    "f.close()"
   ]
  }
 ],
 "metadata": {
  "anaconda-cloud": {},
  "kernelspec": {
   "display_name": "Python 3",
   "language": "python",
   "name": "python3"
  },
  "language_info": {
   "codemirror_mode": {
    "name": "ipython",
    "version": 3
   },
   "file_extension": ".py",
   "mimetype": "text/x-python",
   "name": "python",
   "nbconvert_exporter": "python",
   "pygments_lexer": "ipython3",
   "version": "3.5.4"
  }
 },
 "nbformat": 4,
 "nbformat_minor": 1
}
